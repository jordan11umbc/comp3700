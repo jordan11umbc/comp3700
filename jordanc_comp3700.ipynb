{
 "cells": [
  {
   "cell_type": "markdown",
   "metadata": {},
   "source": [
    "### 14 May 2021\n",
    "# Jordan C. - COMP3700 - Final Project\n"
   ]
  },
  {
   "cell_type": "code",
   "execution_count": 6,
   "metadata": {},
   "outputs": [
    {
     "name": "stdout",
     "output_type": "stream",
     "text": [
      "Initializing Spark...\n",
      "Spark found in :  /home/ubuntu/apps/spark\n",
      "Spark config:\n",
      "\t executor.memory=2g\n",
      "\tsome_property=some_value\n",
      "\tspark.app.name=TestApp\n",
      "\tspark.master=local[*]\n",
      "\tspark.sql.warehouse.dir=/tmp/tmpodw4ztbv\n",
      "\tspark.submit.deployMode=client\n",
      "\tspark.submit.pyFiles=\n",
      "\tspark.ui.showConsoleProgress=true\n",
      "Spark UI running on port 4041\n"
     ]
    }
   ],
   "source": [
    "# initialize Spark session\n",
    "import os, sys, pyspark.sql.functions as f\n",
    "top_dir = os.path.abspath(os.path.join(os.getcwd(), \"../\"))\n",
    "if top_dir not in sys.path:\n",
    "    sys.path.append(top_dir)\n",
    "from init_spark import init_spark\n",
    "spark = init_spark()"
   ]
  },
  {
   "cell_type": "code",
   "execution_count": 7,
   "metadata": {},
   "outputs": [
    {
     "name": "stdout",
     "output_type": "stream",
     "text": [
      "root\n",
      " |-- order_id: string (nullable = true)\n",
      " |-- quantity: string (nullable = true)\n",
      " |-- item_name: string (nullable = true)\n",
      " |-- choice_description: string (nullable = true)\n",
      " |-- item_price0: string (nullable = true)\n",
      "\n",
      "root\n",
      " |-- order_id: string (nullable = true)\n",
      " |-- quantity: string (nullable = true)\n",
      " |-- item_name: string (nullable = true)\n",
      " |-- choice_description: string (nullable = true)\n",
      " |-- item_price: double (nullable = true)\n",
      "\n",
      "+--------+--------+--------------------+--------------------+----------+\n",
      "|order_id|quantity|           item_name|  choice_description|item_price|\n",
      "+--------+--------+--------------------+--------------------+----------+\n",
      "|       1|       1|Chips and Mild Fr...|                NULL|      2.39|\n",
      "|       1|       1|                Izze|        [Clementine]|      3.39|\n",
      "|       1|       1|    Nantucket Nectar|             [Apple]|      3.39|\n",
      "|       1|       1|Chips and Tomatil...|                NULL|      2.39|\n",
      "|       2|       2|        Chicken Bowl|[Tomatillo-Red Ch...|     16.98|\n",
      "|       3|       1|        Chicken Bowl|[Fresh Tomato Sal...|     10.98|\n",
      "|       3|       1|               Chips|                NULL|      1.69|\n",
      "|       4|       1|       Steak Burrito|[Tomatillo Red Ch...|     11.75|\n",
      "|       4|       1|    Steak Soft Tacos|[Tomatillo Green ...|      9.25|\n",
      "|       5|       1|       Steak Burrito|[Fresh Tomato Sal...|      9.25|\n",
      "|       5|       1| Chips and Guacamole|                NULL|      4.45|\n",
      "+--------+--------+--------------------+--------------------+----------+\n",
      "only showing top 11 rows\n",
      "\n"
     ]
    }
   ],
   "source": [
    "# load Chipotle orders data\n",
    "chipotleOrdersDF0 = spark.read.csv(\"./data/chipotle-orders.tsv\", sep=r'\\t', header=True).selectExpr('order_id','quantity','item_name','choice_description','item_price as item_price0')\n",
    "chipotleOrdersDF0.printSchema()\n",
    "\n",
    "# convert item_price from string to double and create a table\n",
    "chipotleOrdersDF1 = chipotleOrdersDF0.withColumn('item_price', f.regexp_replace('item_price0', '[$,]', '').cast('double')).drop('item_price0')\n",
    "chipotleOrdersDF1.createOrReplaceTempView(\"chipotle_orders\")\n",
    "chipotleOrdersDF1.printSchema()\n",
    "chipotleOrdersDF1.show(11)"
   ]
  },
  {
   "cell_type": "code",
   "execution_count": 8,
   "metadata": {},
   "outputs": [
    {
     "name": "stdout",
     "output_type": "stream",
     "text": [
      "TOP 10 orders:\n",
      "+--------+-----------+\n",
      "|order_id|order_total|\n",
      "+--------+-----------+\n",
      "|     926|     205.25|\n",
      "|    1443|     160.74|\n",
      "|    1483|     139.00|\n",
      "|     691|     118.25|\n",
      "|    1786|     114.30|\n",
      "|     205|     109.90|\n",
      "|     511|     104.59|\n",
      "|     491|     102.00|\n",
      "|    1449|      95.39|\n",
      "|     759|      86.30|\n",
      "+--------+-----------+\n",
      "only showing top 10 rows\n",
      "\n",
      "root\n",
      " |-- order_id: string (nullable = true)\n",
      " |-- quantity: string (nullable = true)\n",
      " |-- item_name: string (nullable = true)\n",
      " |-- choice_description: string (nullable = true)\n",
      " |-- item_price: double (nullable = true)\n",
      " |-- order_total: decimal(10,2) (nullable = true)\n",
      "\n"
     ]
    }
   ],
   "source": [
    "# group by order ID and sort by order total\n",
    "orderTotals = spark.sql(\"select order_id, cast(round(sum(item_price),2) as decimal(10,2)) as order_total from chipotle_orders group by order_id order by order_total desc\")\n",
    "print(\"TOP 10 orders:\")\n",
    "orderTotals.show(10)\n",
    "\n",
    "orderTotals.createOrReplaceTempView(\"order_totals\")\n",
    "chipotleOrdersDF2 = spark.sql(\"select chipotle_orders.*, order_totals.order_total from chipotle_orders join order_totals on (chipotle_orders.order_id=order_totals.order_id)\")\n",
    "chipotleOrdersDF2.printSchema()"
   ]
  },
  {
   "cell_type": "code",
   "execution_count": 9,
   "metadata": {},
   "outputs": [
    {
     "name": "stdout",
     "output_type": "stream",
     "text": [
      "Menu:\n",
      "+-------------+-------------------------------------+--------+-----------+\n",
      "|menu_category|item_name                            |protein |entree_type|\n",
      "+-------------+-------------------------------------+--------+-----------+\n",
      "|drink        |6 Pack Soft Drink                    |NULL    |NULL       |\n",
      "|drink        |Bottled Water                        |NULL    |NULL       |\n",
      "|drink        |Canned Soft Drink                    |NULL    |NULL       |\n",
      "|drink        |Izze                                 |NULL    |NULL       |\n",
      "|drink        |Nantucket Nectar                     |NULL    |NULL       |\n",
      "|entree       |Barbacoa Bowl                        |barbacoa|bowl       |\n",
      "|entree       |Barbacoa Burrito                     |barbacoa|burrito    |\n",
      "|entree       |Barbacoa Crispy Tacos                |barbacoa|crispy     |\n",
      "|entree       |Barbacoa Salad Bowl                  |barbacoa|salad      |\n",
      "|entree       |Barbacoa Soft Tacos                  |barbacoa|soft       |\n",
      "|entree       |Carnitas Bowl                        |carnitas|bowl       |\n",
      "|entree       |Carnitas Burrito                     |carnitas|burrito    |\n",
      "|entree       |Carnitas Crispy Tacos                |carnitas|crispy     |\n",
      "|entree       |Carnitas Salad                       |carnitas|salad      |\n",
      "|entree       |Carnitas Salad Bowl                  |carnitas|salad      |\n",
      "|entree       |Carnitas Soft Tacos                  |carnitas|soft       |\n",
      "|entree       |Chicken Bowl                         |chicken |bowl       |\n",
      "|entree       |Chicken Burrito                      |chicken |burrito    |\n",
      "|entree       |Chicken Crispy Tacos                 |chicken |crispy     |\n",
      "|entree       |Chicken Salad                        |chicken |salad      |\n",
      "|entree       |Chicken Salad Bowl                   |chicken |salad      |\n",
      "|entree       |Chicken Soft Tacos                   |chicken |soft       |\n",
      "|entree       |Steak Bowl                           |steak   |bowl       |\n",
      "|entree       |Steak Salad Bowl                     |steak   |bowl       |\n",
      "|entree       |Steak Burrito                        |steak   |burrito    |\n",
      "|entree       |Steak Crispy Tacos                   |steak   |crispy     |\n",
      "|entree       |Steak Salad                          |steak   |salad      |\n",
      "|entree       |Steak Soft Tacos                     |steak   |soft       |\n",
      "|entree       |Veggie Bowl                          |veggie  |bowl       |\n",
      "|entree       |Veggie Burrito                       |veggie  |burrito    |\n",
      "|entree       |Veggie Crispy Tacos                  |veggie  |crispy     |\n",
      "|entree       |Veggie Salad                         |veggie  |salad      |\n",
      "|entree       |Veggie Salad Bowl                    |veggie  |salad      |\n",
      "|entree       |Veggie Soft Tacos                    |veggie  |soft       |\n",
      "|side         |Chips                                |NULL    |NULL       |\n",
      "|side         |Chips and Guacamole                  |NULL    |NULL       |\n",
      "|side         |Chips and Mild Fresh Tomato Salsa    |NULL    |NULL       |\n",
      "|side         |Chips and Roasted Chili-Corn Salsa   |NULL    |NULL       |\n",
      "|side         |Chips and Tomatillo-Green Chili Salsa|NULL    |NULL       |\n",
      "|side         |Chips and Tomatillo-Red Chili Salsa  |NULL    |NULL       |\n",
      "+-------------+-------------------------------------+--------+-----------+\n",
      "\n",
      "root\n",
      " |-- order_id: string (nullable = true)\n",
      " |-- quantity: string (nullable = true)\n",
      " |-- item_name: string (nullable = true)\n",
      " |-- choice_description: string (nullable = true)\n",
      " |-- item_price: double (nullable = true)\n",
      " |-- menu_category: string (nullable = true)\n",
      " |-- protein: string (nullable = true)\n",
      " |-- entree_type: string (nullable = true)\n",
      "\n",
      "+--------+--------+-------------------------------------+------------------------------------------------------------------------------------------------------------------+----------+-------------+-------+-----------+\n",
      "|order_id|quantity|item_name                            |choice_description                                                                                                |item_price|menu_category|protein|entree_type|\n",
      "+--------+--------+-------------------------------------+------------------------------------------------------------------------------------------------------------------+----------+-------------+-------+-----------+\n",
      "|1       |1       |Chips and Mild Fresh Tomato Salsa    |NULL                                                                                                              |2.39      |side         |NULL   |NULL       |\n",
      "|1       |1       |Izze                                 |[Clementine]                                                                                                      |3.39      |drink        |NULL   |NULL       |\n",
      "|1       |1       |Nantucket Nectar                     |[Apple]                                                                                                           |3.39      |drink        |NULL   |NULL       |\n",
      "|1       |1       |Chips and Tomatillo-Green Chili Salsa|NULL                                                                                                              |2.39      |side         |NULL   |NULL       |\n",
      "|2       |2       |Chicken Bowl                         |[Tomatillo-Red Chili Salsa (Hot), [Black Beans, Rice, Cheese, Sour Cream]]                                        |16.98     |entree       |chicken|bowl       |\n",
      "|3       |1       |Chicken Bowl                         |[Fresh Tomato Salsa (Mild), [Rice, Cheese, Sour Cream, Guacamole, Lettuce]]                                       |10.98     |entree       |chicken|bowl       |\n",
      "|3       |1       |Chips                                |NULL                                                                                                              |1.69      |side         |NULL   |NULL       |\n",
      "|4       |1       |Steak Burrito                        |[Tomatillo Red Chili Salsa, [Fajita Vegetables, Black Beans, Pinto Beans, Cheese, Sour Cream, Guacamole, Lettuce]]|11.75     |entree       |steak  |burrito    |\n",
      "|4       |1       |Steak Soft Tacos                     |[Tomatillo Green Chili Salsa, [Pinto Beans, Cheese, Sour Cream, Lettuce]]                                         |9.25      |entree       |steak  |soft       |\n",
      "|5       |1       |Steak Burrito                        |[Fresh Tomato Salsa, [Rice, Black Beans, Pinto Beans, Cheese, Sour Cream, Lettuce]]                               |9.25      |entree       |steak  |burrito    |\n",
      "|5       |1       |Chips and Guacamole                  |NULL                                                                                                              |4.45      |side         |NULL   |NULL       |\n",
      "|6       |1       |Chicken Crispy Tacos                 |[Roasted Chili Corn Salsa, [Fajita Vegetables, Rice, Black Beans, Cheese, Sour Cream]]                            |8.75      |entree       |chicken|crispy     |\n",
      "|6       |1       |Chicken Soft Tacos                   |[Roasted Chili Corn Salsa, [Rice, Black Beans, Cheese, Sour Cream]]                                               |8.75      |entree       |chicken|soft       |\n",
      "|7       |1       |Chicken Bowl                         |[Fresh Tomato Salsa, [Fajita Vegetables, Rice, Cheese, Sour Cream, Guacamole]]                                    |11.25     |entree       |chicken|bowl       |\n",
      "|7       |1       |Chips and Guacamole                  |NULL                                                                                                              |4.45      |side         |NULL   |NULL       |\n",
      "|8       |1       |Chips and Tomatillo-Green Chili Salsa|NULL                                                                                                              |2.39      |side         |NULL   |NULL       |\n",
      "|8       |1       |Chicken Burrito                      |[Tomatillo-Green Chili Salsa (Medium), [Pinto Beans, Cheese, Sour Cream]]                                         |8.49      |entree       |chicken|burrito    |\n",
      "|9       |1       |Chicken Burrito                      |[Fresh Tomato Salsa (Mild), [Black Beans, Rice, Cheese, Sour Cream, Lettuce]]                                     |8.49      |entree       |chicken|burrito    |\n",
      "|9       |2       |Canned Soft Drink                    |[Sprite]                                                                                                          |2.18      |drink        |NULL   |NULL       |\n",
      "|10      |1       |Chicken Bowl                         |[Tomatillo Red Chili Salsa, [Fajita Vegetables, Black Beans, Sour Cream, Cheese, Lettuce]]                        |8.75      |entree       |chicken|bowl       |\n",
      "+--------+--------+-------------------------------------+------------------------------------------------------------------------------------------------------------------+----------+-------------+-------+-----------+\n",
      "only showing top 20 rows\n",
      "\n"
     ]
    }
   ],
   "source": [
    "# create item categories table and join\n",
    "items = spark.sql(\"select distinct item_name from chipotle_orders order by item_name\")\n",
    "menuCategories = spark.read.csv(\"./data/chipotle-menu.tsv\", sep=r'\\t', header=True).selectExpr('menu_category','item_name','protein','entree_type')\n",
    "menuCategories.createOrReplaceTempView(\"menu_categories\")\n",
    "menuCategories = spark.sql(\"select * from menu_categories order by menu_category, protein, entree_type, item_name\")\n",
    "print(\"Menu:\")\n",
    "menuCategories.show(50, False)\n",
    "chipotleOrdersDF = spark.sql(\"select chipotle_orders.*, menu_categories.menu_category, menu_categories.protein, menu_categories.entree_type from chipotle_orders join menu_categories on (chipotle_orders.item_name=menu_categories.item_name)\")\n",
    "chipotleOrdersDF.createOrReplaceTempView(\"chipotle_orders\")\n",
    "chipotleOrdersDF.printSchema()\n",
    "chipotleOrdersDF.show(20, False)"
   ]
  },
  {
   "cell_type": "code",
   "execution_count": 10,
   "metadata": {},
   "outputs": [
    {
     "name": "stdout",
     "output_type": "stream",
     "text": [
      "+-----------------+\n",
      "|AverageOrderTotal|\n",
      "+-----------------+\n",
      "|            18.81|\n",
      "+-----------------+\n",
      "\n"
     ]
    }
   ],
   "source": [
    "#What is the average order total?\n",
    "spark.sql(\"select cast(round(avg(order_total), 2) as decimal(10,2)) as AverageOrderTotal from order_totals\").show()"
   ]
  },
  {
   "cell_type": "code",
   "execution_count": 11,
   "metadata": {},
   "outputs": [
    {
     "name": "stdout",
     "output_type": "stream",
     "text": [
      "+------------+\n",
      "|TotalRevenue|\n",
      "+------------+\n",
      "|34500.16    |\n",
      "+------------+\n",
      "\n"
     ]
    }
   ],
   "source": [
    "#What is the total revenue generated?\n",
    "spark.sql(\"select cast(round(sum(item_price), 2) as decimal(10,2)) as TotalRevenue from chipotle_orders\").show(50, False)"
   ]
  },
  {
   "cell_type": "code",
   "execution_count": 12,
   "metadata": {},
   "outputs": [
    {
     "name": "stdout",
     "output_type": "stream",
     "text": [
      "+-------------------------------------+---+------------+\n",
      "|MenuItem                             |Qty|TotalRevenue|\n",
      "+-------------------------------------+---+------------+\n",
      "|Chicken Bowl                         |761|7342.73     |\n",
      "|Chicken Burrito                      |593|5590.62     |\n",
      "|Steak Burrito                        |388|3866.23     |\n",
      "|Steak Bowl                           |222|2267.59     |\n",
      "|Chips and Guacamole                  |506|2201.04     |\n",
      "|Chicken Salad Bowl                   |123|1228.75     |\n",
      "|Chicken Soft Tacos                   |120|1108.09     |\n",
      "|Veggie Burrito                       |97 |934.77      |\n",
      "|Barbacoa Burrito                     |93 |909.55      |\n",
      "|Veggie Bowl                          |87 |867.99      |\n",
      "|Carnitas Bowl                        |74 |758.91      |\n",
      "|Chips                                |340|680.24      |\n",
      "|Barbacoa Bowl                        |66 |672.36      |\n",
      "|Carnitas Burrito                     |60 |597.83      |\n",
      "|Canned Soft Drink                    |477|576.09      |\n",
      "|Steak Soft Tacos                     |56 |536.05      |\n",
      "|Chicken Crispy Tacos                 |51 |479.53      |\n",
      "|Carnitas Soft Tacos                  |40 |375.94      |\n",
      "|Steak Crispy Tacos                   |37 |364.74      |\n",
      "|Chips and Mild Fresh Tomato Salsa    |131|364.36      |\n",
      "|6 Pack Soft Drink                    |55 |356.95      |\n",
      "|Steak Salad Bowl                     |31 |343.59      |\n",
      "|Bottled Water                        |211|302.56      |\n",
      "|Barbacoa Soft Tacos                  |25 |250.46      |\n",
      "|Chips and Tomatillo-Green Chili Salsa|78 |211.62      |\n",
      "|Chips and Tomatillo-Red Chili Salsa  |75 |207.25      |\n",
      "|Veggie Salad Bowl                    |18 |182.50      |\n",
      "|Barbacoa Crispy Tacos                |12 |120.21      |\n",
      "|Chips and Roasted Chili-Corn Salsa   |41 |110.87      |\n",
      "|Barbacoa Salad Bowl                  |10 |106.40      |\n",
      "|Nantucket Nectar                     |29 |98.31       |\n",
      "|Chicken Salad                        |11 |95.89       |\n",
      "|Carnitas Crispy Tacos                |8  |77.96       |\n",
      "|Veggie Soft Tacos                    |8  |73.96       |\n",
      "|Izze                                 |20 |67.80       |\n",
      "|Carnitas Salad Bowl                  |6  |66.34       |\n",
      "|Veggie Salad                         |6  |50.94       |\n",
      "|Steak Salad                          |4  |35.66       |\n",
      "|Carnitas Salad                       |1  |8.99        |\n",
      "|Veggie Crispy Tacos                  |1  |8.49        |\n",
      "+-------------------------------------+---+------------+\n",
      "\n"
     ]
    }
   ],
   "source": [
    "#What is the total revenue by menu item?\n",
    "spark.sql(\"select item_name as MenuItem, cast(sum(quantity) as decimal(10,0)) as Qty, cast(round(sum(item_price), 2) as decimal(10,2)) as TotalRevenue from chipotle_orders group by item_name order by TotalRevenue desc\").show(50, False)"
   ]
  },
  {
   "cell_type": "code",
   "execution_count": 13,
   "metadata": {},
   "outputs": [
    {
     "name": "stdout",
     "output_type": "stream",
     "text": [
      "+-------------+----+------------+\n",
      "|ProteinOption|Qty |TotalRevenue|\n",
      "+-------------+----+------------+\n",
      "|chicken      |1659|15845.61    |\n",
      "|steak        |738 |7413.86     |\n",
      "|veggie       |217 |2118.65     |\n",
      "|barbacoa     |206 |2058.98     |\n",
      "|carnitas     |189 |1885.97     |\n",
      "+-------------+----+------------+\n",
      "\n"
     ]
    }
   ],
   "source": [
    "#Which protein option is most popular?\n",
    "spark.sql(\"select protein as ProteinOption, cast(sum(quantity) as decimal(10,0)) as Qty, cast(round(sum(item_price), 2) as decimal(10,2)) as TotalRevenue from chipotle_orders where menu_category='entree' group by protein order by Qty desc\").show(10, False)"
   ]
  },
  {
   "cell_type": "code",
   "execution_count": 14,
   "metadata": {},
   "outputs": [
    {
     "name": "stdout",
     "output_type": "stream",
     "text": [
      "+----------+----+------------+\n",
      "|EntreeType|Qty |TotalRevenue|\n",
      "+----------+----+------------+\n",
      "|bowl      |1241|12253.17    |\n",
      "|burrito   |1231|11899.00    |\n",
      "|soft      |249 |2344.50     |\n",
      "|salad     |179 |1775.47     |\n",
      "|crispy    |109 |1050.93     |\n",
      "+----------+----+------------+\n",
      "\n"
     ]
    }
   ],
   "source": [
    "#Which entree type is most popular?\n",
    "spark.sql(\"select entree_type as EntreeType, cast(sum(quantity) as decimal(10,0)) as Qty, cast(round(sum(item_price), 2) as decimal(10,2)) as TotalRevenue from chipotle_orders where menu_category='entree' group by entree_type order by Qty desc\").show(10, False)"
   ]
  },
  {
   "cell_type": "code",
   "execution_count": 15,
   "metadata": {},
   "outputs": [
    {
     "name": "stdout",
     "output_type": "stream",
     "text": [
      "+-----------------+-------------------------+---+------------+\n",
      "|Drink            |Flavor                   |Qty|TotalRevenue|\n",
      "+-----------------+-------------------------+---+------------+\n",
      "|Bottled Water    |NULL                     |211|302.56      |\n",
      "|Canned Soft Drink|[Diet Coke]              |159|326.71      |\n",
      "|Canned Soft Drink|[Coke]                   |143|288.79      |\n",
      "|Canned Soft Drink|[Sprite]                 |89 |133.93      |\n",
      "|Canned Soft Drink|[Lemonade]               |36 |55.48       |\n",
      "|Canned Soft Drink|[Coca Cola]              |32 |34.88       |\n",
      "|Canned Soft Drink|[Dr. Pepper]             |21 |22.89       |\n",
      "|Canned Soft Drink|[Nestea]                 |20 |35.48       |\n",
      "|Canned Soft Drink|[Mountain Dew]           |18 |19.62       |\n",
      "|Canned Soft Drink|[Diet Dr. Pepper]        |14 |15.26       |\n",
      "|Nantucket Nectar |[Peach Orange]           |9  |30.51       |\n",
      "|Nantucket Nectar |[Pineapple Orange Banana]|9  |30.51       |\n",
      "|Izze             |[Clementine]             |8  |27.12       |\n",
      "|Izze             |[Blackberry]             |8  |27.12       |\n",
      "|Nantucket Nectar |[Apple]                  |6  |20.34       |\n",
      "|Nantucket Nectar |[Pomegranate Cherry]     |5  |16.95       |\n",
      "|Izze             |[Grapefruit]             |4  |13.56       |\n",
      "+-----------------+-------------------------+---+------------+\n",
      "\n"
     ]
    }
   ],
   "source": [
    "#Which drink option is most popular?\n",
    "spark.sql(\"select first(item_name) as Drink, choice_description as Flavor, cast(sum(quantity) as decimal(10,0)) as Qty, cast(round(sum(item_price), 2) as decimal(10,2)) as TotalRevenue from chipotle_orders where menu_category='drink' group by choice_description order by Qty desc\").show(50, False)"
   ]
  },
  {
   "cell_type": "code",
   "execution_count": 16,
   "metadata": {},
   "outputs": [
    {
     "name": "stdout",
     "output_type": "stream",
     "text": [
      "+-------------------------------------+---+------------+\n",
      "|Side                                 |Qty|TotalRevenue|\n",
      "+-------------------------------------+---+------------+\n",
      "|Chips and Guacamole                  |506|2201.04     |\n",
      "|Chips                                |340|680.24      |\n",
      "|Chips and Mild Fresh Tomato Salsa    |131|364.36      |\n",
      "|Chips and Tomatillo-Green Chili Salsa|78 |211.62      |\n",
      "|Chips and Tomatillo-Red Chili Salsa  |75 |207.25      |\n",
      "|Chips and Roasted Chili-Corn Salsa   |41 |110.87      |\n",
      "+-------------------------------------+---+------------+\n",
      "\n"
     ]
    }
   ],
   "source": [
    "#Which side option is most popular?\n",
    "spark.sql(\"select item_name as Side, cast(sum(quantity) as decimal(10,0)) as Qty, cast(round(sum(item_price), 2) as decimal(10,2)) as TotalRevenue from chipotle_orders where menu_category='side' group by item_name order by Qty desc\").show(50, False)"
   ]
  }
 ],
 "metadata": {
  "kernelspec": {
   "display_name": "Python 3",
   "language": "python",
   "name": "python3"
  },
  "language_info": {
   "codemirror_mode": {
    "name": "ipython",
    "version": 3
   },
   "file_extension": ".py",
   "mimetype": "text/x-python",
   "name": "python",
   "nbconvert_exporter": "python",
   "pygments_lexer": "ipython3",
   "version": "3.8.2"
  }
 },
 "nbformat": 4,
 "nbformat_minor": 4
}
